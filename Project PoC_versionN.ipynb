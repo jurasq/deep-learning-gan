{
 "cells": [
  {
   "cell_type": "code",
   "execution_count": 1,
   "metadata": {},
   "outputs": [
    {
     "name": "stderr",
     "output_type": "stream",
     "text": [
      "C:\\Users\\nroy0\\Anaconda3\\lib\\site-packages\\h5py\\__init__.py:36: FutureWarning: Conversion of the second argument of issubdtype from `float` to `np.floating` is deprecated. In future, it will be treated as `np.float64 == np.dtype(float).type`.\n",
      "  from ._conv import register_converters as _register_converters\n"
     ]
    }
   ],
   "source": [
    "# These are all the modules we'll be using later. Make sure you can import them\n",
    "# before proceeding further.\n",
    "from __future__ import print_function\n",
    "import numpy as np\n",
    "import tensorflow as tf\n",
    "from six.moves import cPickle as pickle\n",
    "from six.moves import range\n",
    "import random\n",
    "import matplotlib.pyplot as plt\n",
    "import math\n",
    "%matplotlib inline"
   ]
  },
  {
   "cell_type": "markdown",
   "metadata": {},
   "source": [
    "### Paper definitions:\n",
    "Enhancer paper = \"Enhancer Identification from DNA sequence using Transfer and Adversarial Deep Learning\"  \n",
    "triple GAN = \"Triple Generative Adversarial Nets\""
   ]
  },
  {
   "cell_type": "markdown",
   "metadata": {},
   "source": [
    "### Loading the data"
   ]
  },
  {
   "cell_type": "code",
   "execution_count": 2,
   "metadata": {},
   "outputs": [],
   "source": [
    "def data_process_fn(sample):\n",
    "    \"\"\"\n",
    "    Inputs:\n",
    "        sample: (string) String of DNA data of length n, example: ACTGTA...\n",
    "    Outputs:\n",
    "        A numpy array of size n x 4 where A in the DNA sequence has been replace with [1 0 0 0], C with [0 1 0 0],\n",
    "        G with [0 0 1 0] and T with [0 0 0 1].\n",
    "    \"\"\"\n",
    "    mapping = tf.constant([\"A\", \"C\", \"G\", \"T\"])\n",
    "    embeddings = tf.constant([[1, 0, 0, 0], [0, 1, 0, 0], [0, 0, 1, 0], [0, 0, 0, 1]])\n",
    "        \n",
    "    sample_split = tf.string_split([sample], '')\n",
    "    lookup_table = tf.contrib.lookup.index_table_from_tensor(mapping = mapping, num_oov_buckets = 0)\n",
    "    lookup_table.init.run()\n",
    "    sample_indices = lookup_table.lookup(sample_split.values)\n",
    "    encoded = tf.nn.embedding_lookup(embeddings, sample_indices)\n",
    "    \n",
    "    return encoded\n",
    "\n",
    "    \n",
    "def input_fn(data_file_names):\n",
    "    \"\"\"\n",
    "    Inputs:\n",
    "        data_file_names: (string/string array) List of files to be loaded. * can be used as a wildcard in file names.\n",
    "    Outputs:\n",
    "        Tensor flow dataset containing the data matrices from data_file_names\n",
    "    \"\"\"\n",
    "    files = tf.data.Dataset.list_files(data_file_names)\n",
    "#     dataset = files.interleave(lambda x: tf.data.TextLineDataset(x).map(data_process_fn), cycle_length = 1)\n",
    "    dataset = files.interleave(lambda x: tf.data.TextLineDataset(x), cycle_length = 1)\n",
    "    \n",
    "    return dataset"
   ]
  },
  {
   "cell_type": "code",
   "execution_count": null,
   "metadata": {},
   "outputs": [],
   "source": [
    "#Example of data loading - human positive samples\n",
    "\n",
    "with  tf.Session() as sess:\n",
    "    \n",
    "    input_data_example = input_fn(\"Data/Human/positive_samples\")\n",
    "    iter = input_data_example.make_one_shot_iterator()\n",
    "    val = iter.get_next()\n",
    "    "
   ]
  },
  {
   "cell_type": "markdown",
   "metadata": {},
   "source": [
    "### Scratchpad"
   ]
  },
  {
   "cell_type": "code",
   "execution_count": null,
   "metadata": {},
   "outputs": [],
   "source": [
    "\n",
    "kernel_shape=[4,9]\n",
    "input_channels = 1\n",
    "num_kernels = 20\n",
    "\n",
    "weights_shape = kernel_shape + [input_channels, num_kernels]\n",
    "print(weights_shape)\n",
    "print([1] + [2, 2] + [1])\n",
    "print(int(500/8))"
   ]
  },
  {
   "cell_type": "markdown",
   "metadata": {},
   "source": [
    "### Defining helper functions\n"
   ]
  },
  {
   "cell_type": "code",
   "execution_count": 24,
   "metadata": {},
   "outputs": [],
   "source": [
    "def conv_layer(name_scope, input_tensor, num_kernels, kernel_shape,\n",
    "               stride=1, padding=\"VALID\", relu=True, lrelu=False,\n",
    "               batch_normalize=False, batch_normalize_training=True, \n",
    "               name_suffix=None, batch_norm=False):\n",
    "    \"\"\"\n",
    "    Return a convolution layer, possibly with a ReLU at the end.\n",
    "    :param name_scope:   where the variables live\n",
    "    :param input_tensor: of shape [batch, in_height, in_width, in_channels], e.g. [15 500 4 1]\n",
    "    :param num_kernels:  number of kernels to use for this conv. layer\n",
    "    :param kernel_shape: the shape of the kernel to use, [height, width]\n",
    "    \"\"\"\n",
    "    name_suffix = name_suffix if name_suffix else \"\"\n",
    "    \n",
    "    #E.g. batch_size x 500x4x1 for the first input\n",
    "    input_shape = input_tensor.get_shape().as_list()\n",
    "    input_channels = input_shape[-1]\n",
    "    \n",
    "    #not really sure why I'm using the name_scope, I think it's mostly for presentation purposes\n",
    "    with tf.name_scope(name_scope):\n",
    "        \n",
    "        weights_shape = kernel_shape + [input_channels, num_kernels]\n",
    "        init_vals_weights = tf.truncated_normal(weights_shape, stddev=math.sqrt(2 / float(input_channels)))\n",
    "        filter_weights = tf.Variable(init_vals_weights, name='weights'+name_suffix)\n",
    "    \n",
    "        biases = tf.Variable(tf.zeros([num_kernels]), name='biases'+name_suffix)\n",
    "        \n",
    "        #Define a convolutional layer\n",
    "        layer = tf.nn.conv2d(input_tensor, filter_weights, strides=[1, stride, stride, 1], padding=padding) + biases\n",
    "        \n",
    "        #Add batch normalisation if specified\n",
    "        #TODO: is_training always True?\n",
    "        if batch_norm:\n",
    "            layer = tf.contrib.layers.batch_norm(inputs = layer, center=True, scale=True, is_training=True)\n",
    "            \n",
    "        #Add (leaky) ReLU if specified\n",
    "        if relu and lrelu:\n",
    "            layer = tf.nn.leaky_relu(layer, name=\"lrelu_\"+name_suffix)\n",
    "        elif relu:\n",
    "            layer = tf.nn.relu(layer, name=\"relu_\"+name_suffix)\n",
    "            \n",
    "        return layer\n",
    "\n",
    "def conv_max_forward_reverse(name_scope, input_tensor, num_kernels, kernel_shape,\n",
    "                             stride=1, padding='VALID', relu=True, lrelu=False, name_suffix=None):\n",
    "    \"\"\"\n",
    "    Returns a convolution layer\n",
    "    \"\"\"\n",
    "    name_suffix = name_suffix if name_suffix else \"\"\n",
    "    \n",
    "    input_shape = input_tensor.get_shape().as_list()\n",
    "    input_channels = input_shape[-1] # number of input channels\n",
    "    with tf.name_scope(name_scope):\n",
    "        shape = kernel_shape + [input_channels, num_kernels]\n",
    "        initer = tf.truncated_normal(shape, stddev=math.sqrt(2 / float(input_channels)))\n",
    "        weights = tf.Variable(initer, name='weights')\n",
    "        num_kernels = weights.get_shape()[3]\n",
    "        biases = tf.Variable(tf.zeros([num_kernels]), name='biases')\n",
    "\n",
    "        # If one component of shape is the special value -1, the size of that dimension is computed\n",
    "        #  so that the total size remains constant.\n",
    "        # In our case: -1 is inferred to be input_channels * out_channels:\n",
    "        new_weights_shape = [-1] + kernel_shape + [1]\n",
    "        w_image = tf.reshape(weights, new_weights_shape)\n",
    "        tf.summary.image(name_scope + \"_weights_im\", w_image, weights.get_shape()[3])\n",
    "        forward_conv = tf.nn.conv2d(input_tensor, weights, strides=[1, stride, stride, 1], padding=padding,\n",
    "                               name=\"forward_conv\") + biases\n",
    "        # for reverse complement: reverse in dimension 0 and 1:\n",
    "        rev_comp_weights = tf.reverse(weights, [0, 1], name=\"reverse_weights\")\n",
    "        reverse_conv = tf.nn.conv2d(input_tensor, rev_comp_weights,\n",
    "                                    strides=[1, stride, stride, 1], padding=padding,\n",
    "                                    name=\"reverse_conv\") + biases\n",
    "        # takes the maximum between the forward weights and the rev.-comp.-weights:\n",
    "        max_conv = tf.maximum(forward_conv, reverse_conv, name=\"conv1\")\n",
    "        if relu and lrelu:\n",
    "            return tf.nn.leaky_relu(max_conv, name=\"lrelu_\"+name_suffix)\n",
    "        elif relu:\n",
    "            return tf.nn.relu(max_conv, name=\"relu_\"+name_suffix)\n",
    "        else:\n",
    "            return max_conv\n",
    "        \n",
    "def max_pool_layer(name_scope, input_tensor, pool_size, strides = None, padding=\"SAME\"):\n",
    "    \"\"\"\n",
    "    Return a max pool layer.\n",
    "    \"\"\"\n",
    "    if not strides:\n",
    "        strides = [1] + pool_size + [1]\n",
    "       \n",
    "    #TODO: is name_scope really needed?\n",
    "    with tf.name_scope(name_scope):\n",
    "        layer = tf.nn.max_pool(input_tensor, [1] + pool_size + [1], strides=strides, padding=padding)\n",
    "        return layer\n",
    "\n",
    "\n",
    "def dropout_layer(name_scope, input_tensor, keep_prob=0.5):\n",
    "    \"\"\"\n",
    "    Return a dropout layer.\n",
    "    \"\"\"\n",
    "    #TODO: is name_scope really needed?\n",
    "    with tf.name_scope(name_scope):\n",
    "        return tf.nn.droupout(input_tensor, keep_prob)\n",
    "    \n",
    "def flatten(x):\n",
    "    \"\"\"\n",
    "    Returns a flat (one-dimensional) version of the input\n",
    "    \"\"\"\n",
    "    x_shape = x.get_shape().as_list()\n",
    "    return tf.reshape(x, [-1, np.product(x_shape[1:])])"
   ]
  },
  {
   "cell_type": "code",
   "execution_count": 11,
   "metadata": {},
   "outputs": [],
   "source": [
    "# def classifier(dna_sequence):\n",
    "#     \"\"\"\n",
    "#     Return the same classifier, with architecture the same as they used in Enhancer paper.\n",
    "#     \"\"\"\n",
    "#     # 20 filters, each of size batch x 9x4x1\n",
    "#     # TODO: make a reverse filter conv layer like in the Enhancer paper \n",
    "#     with tf.variable_scope('classifier') as scope:\n",
    "#         if (reuse):\n",
    "#             tf.get_variable_scope().reuse_variables()\n",
    "        \n",
    "        \n",
    "#         l1 =  conv_max_forward_reverse(data, name_scope=\"layer1\", num_kernels=20, kernel_shape=[4, 9], relu=True)\n",
    "    #TODO finish\n",
    "\n",
    "def discriminator(dna_sequence, label_one_hot=None, reuse=False):\n",
    "    with tf.variable_scope('discriminator') as scope:\n",
    "        if (reuse):\n",
    "            tf.get_variable_scope().reuse_variables()\n",
    "            \n",
    "        # TODO: make a reverse filter conv layer like in the Enhancer paper \n",
    "\n",
    "        # convolutional + pooling #1\n",
    "        l1 = conv_layer(name_scope=\"conv1\", input_tensor=dna_sequence, num_kernels=20, \n",
    "                        kernel_shape=[4, 9], relu=True)\n",
    "        l2 = max_pool_layer(name_scope=\"pool1\", input_tensor=l1, pool_size=[1, 3])\n",
    "\n",
    "        # convolutional + pooling #2\n",
    "        l3 = conv_layer(name_scope=\"conv2\", input_tensor=l2, num_kernels=30, kernel_shape=[1, 5])\n",
    "        l4 = max_pool_layer(name_scope=\"pool2\", input_tensor=l3, pool_size=[1, 4])\n",
    "\n",
    "        # convolutional + pooling #3\n",
    "        l5 = conv_layer(name_scope=\"conv3\", input_tensor=l4, num_kernels=40, kernel_shape=[1, 3])\n",
    "        l6 = max_pool_layer(name_scope=\"pool3\", input_tensor=l5, pool_size=[1, 4])\n",
    "\n",
    "        flat = flatten(l6)\n",
    "        # fully connected layers\n",
    "        l7 = tf.layers.dense(inputs=flat, units=90)\n",
    "        l8 = tf.layers.dense(inputs=l7, units=45)\n",
    "\n",
    "        logits = tf.layers.dense(inputs=l8, units=2)\n",
    "        \n",
    "#     return tf.nn.softmax(logits, name=\"softmax_tensor\")\n",
    "    return logits\n",
    "    \n",
    "def generator(noise_vector, batch_size, label_one_hot=None, reuse=False):\n",
    "    with tf.variable_scope('generator') as scope:\n",
    "        if (reuse):\n",
    "            tf.get_variable_scope().reuse_variables()\n",
    "        g_dim = 64 #Number of filters of first layer of generator \n",
    "        c_dim = 1 #dimensionality of the output\n",
    "        s = 500 #Final length of the sequence\n",
    "        \n",
    "        #We want to slowly upscale the sequence, so these values should help\n",
    "        # to make that change gradual\n",
    "        s2, s4, s8, s16 = int(s/2), int(s/4), int(s/8), int(s/16)\n",
    "                                                                  \n",
    "        width = 4 #because we have 4 letters: ATCG\n",
    "        \n",
    "        #this is a magic number which I'm not sure what means yet\n",
    "        magic_number = 5\n",
    "        \n",
    "        h0 = tf.reshape(noise_vector, [batch_size, int(width/4), s16+1, magic_number])\n",
    "        h0 = tf.nn.relu(h0)\n",
    "        #Dimensions of h0 = batch_size x 1 x 31 x magic_number\n",
    "\n",
    "        #First DeConv Layer\n",
    "        output1_shape = [batch_size, int(width/2), s8+1, g_dim*4]\n",
    "        W_conv1 = tf.get_variable('g_wconv1', [5, 5, output1_shape[-1], int(h0.get_shape()[-1])], \n",
    "                                  initializer=tf.truncated_normal_initializer(stddev=0.1))\n",
    "        b_conv1 = tf.get_variable('g_bconv1', [output1_shape[-1]], initializer=tf.constant_initializer(.1))\n",
    "        H_conv1 = tf.nn.conv2d_transpose(value=h0, filter=W_conv1, output_shape=output1_shape, \n",
    "                                         strides=[1, 2, 2, 1], padding='SAME', name=\"H_conv1\") + b_conv1\n",
    "        H_conv1 = tf.contrib.layers.batch_norm(inputs = H_conv1, center=True, scale=True, is_training=True, \n",
    "                                               scope=\"g_bn1\")\n",
    "        H_conv1 = tf.nn.relu(H_conv1)\n",
    "        #Dimensions of H_conv1 = batch_size x 1 x 62 x 256\n",
    "\n",
    "        \n",
    "        \n",
    "        #Second DeConv Layer\n",
    "        output2_shape = [batch_size, int(width/2), s4, g_dim*2]\n",
    "        W_conv2 = tf.get_variable('g_wconv2', [5, 5, output2_shape[-1], int(H_conv1.get_shape()[-1])], \n",
    "                                  initializer=tf.truncated_normal_initializer(stddev=0.1))\n",
    "        b_conv2 = tf.get_variable('g_bconv2', [output2_shape[-1]], initializer=tf.constant_initializer(.1))\n",
    "        H_conv2 = tf.nn.conv2d_transpose(H_conv1, W_conv2, output_shape=output2_shape, \n",
    "                                         strides=[1, 1, 2, 1], padding='SAME') + b_conv2\n",
    "        H_conv2 = tf.contrib.layers.batch_norm(inputs = H_conv2, center=True, scale=True, is_training=True, \n",
    "                                               scope=\"g_bn2\")\n",
    "        H_conv2 = tf.nn.relu(H_conv2)\n",
    "        #Dimensions of H_conv2 = batch_size x 2 x 124 x 128\n",
    "\n",
    "        \n",
    "        #Third DeConv Layer\n",
    "        output3_shape = [batch_size, width, s2, g_dim*1]\n",
    "        W_conv3 = tf.get_variable('g_wconv3', [5, 5, output3_shape[-1], int(H_conv2.get_shape()[-1])], \n",
    "                                  initializer=tf.truncated_normal_initializer(stddev=0.1))\n",
    "        b_conv3 = tf.get_variable('g_bconv3', [output3_shape[-1]], initializer=tf.constant_initializer(.1))\n",
    "        H_conv3 = tf.nn.conv2d_transpose(H_conv2, W_conv3, output_shape=output3_shape, \n",
    "                                         strides=[1, 2, 2, 1], padding='SAME') + b_conv3\n",
    "        H_conv3 = tf.contrib.layers.batch_norm(inputs = H_conv3, center=True, scale=True, is_training=True, \n",
    "                                               scope=\"g_bn3\")\n",
    "        H_conv3 = tf.nn.relu(H_conv3)\n",
    "        #Dimensions of H_conv3 = batch_size x 4 x 248 x 64\n",
    "\n",
    "        \n",
    "        #Fourth DeConv Layer\n",
    "        output4_shape = [batch_size, width, s, c_dim]\n",
    "        W_conv4 = tf.get_variable('g_wconv4', [1, 2, output4_shape[-1], int(H_conv3.get_shape()[-1])], \n",
    "                                  initializer=tf.truncated_normal_initializer(stddev=0.1))\n",
    "        b_conv4 = tf.get_variable('g_bconv4', [output4_shape[-1]], initializer=tf.constant_initializer(.1))\n",
    "        H_conv4 = tf.nn.conv2d_transpose(H_conv3, W_conv4, output_shape=output4_shape, \n",
    "                                         strides=[1, 1, 2, 1], padding='VALID') + b_conv4\n",
    "        H_conv4 = tf.nn.tanh(H_conv4)\n",
    "\n",
    "        #Dimensions of H_conv4 = batch_size x 4 x 500 x 1\n",
    "    return H_conv4"
   ]
  },
  {
   "cell_type": "code",
   "execution_count": 36,
   "metadata": {},
   "outputs": [],
   "source": [
    "def classifier(dna_sequence, label_one_hot=None, reuse=False):\n",
    "    with tf.variable_scope('classifier') as scope:\n",
    "        if (reuse):\n",
    "            tf.get_variable_scope().reuse_variables()\n",
    "            \n",
    "        # TODO: make a reverse filter conv layer like in the Enhancer paper \n",
    "\n",
    "        # convolutional + pooling #1\n",
    "        l1 = conv_max_forward_reverse(name_scope=\"conv1\", input_tensor=dna_sequence, num_kernels=20, \n",
    "                        kernel_shape=[4, 9], relu=True)\n",
    "        l2 = max_pool_layer(name_scope=\"pool1\", input_tensor=l1, pool_size=[1, 3])\n",
    "\n",
    "        # convolutional + pooling #2\n",
    "        l3 = conv_max_forward_reverse(name_scope=\"conv2\", input_tensor=l2, num_kernels=30, kernel_shape=[1, 5])\n",
    "        l4 = max_pool_layer(name_scope=\"pool2\", input_tensor=l3, pool_size=[1, 4])\n",
    "\n",
    "        # convolutional + pooling #3\n",
    "        l5 = conv_max_forward_reverse(name_scope=\"conv3\", input_tensor=l4, num_kernels=40, kernel_shape=[1, 3])\n",
    "        l6 = max_pool_layer(name_scope=\"pool3\", input_tensor=l5, pool_size=[1, 4])\n",
    "\n",
    "        flat = flatten(l6)\n",
    "        # fully connected layers\n",
    "        l7 = tf.layers.dense(inputs=flat, units=90)\n",
    "        l8 = tf.layers.dense(inputs=l7, units=45)\n",
    "\n",
    "        logits = tf.layers.dense(inputs=l8, units=2)\n",
    "        \n",
    "    return tf.argmax(logits, axis=1, name=\"softmax_tensor\")\n",
    "#     return logits"
   ]
  },
  {
   "cell_type": "markdown",
   "metadata": {},
   "source": [
    "### Show a sample sequence"
   ]
  },
  {
   "cell_type": "code",
   "execution_count": 12,
   "metadata": {},
   "outputs": [
    {
     "name": "stdout",
     "output_type": "stream",
     "text": [
      "(4, 500)\n"
     ]
    },
    {
     "data": {
      "image/png": "[encoded data removed]",
      "text/plain": [
       "<matplotlib.figure.Figure at 0x1b33416d2e8>"
      ]
     },
     "metadata": {},
     "output_type": "display_data"
    }
   ],
   "source": [
    "tf.reset_default_graph()\n",
    "sess = tf.Session()\n",
    "\n",
    "z_dimensions = 160\n",
    "z_test_placeholder = tf.placeholder(tf.float32, [None, z_dimensions])\n",
    "sample_sequence = generator(z_test_placeholder, 1)\n",
    "test_z = np.random.normal(-1, 1, [1,z_dimensions])\n",
    "\n",
    "train_writer = tf.summary.FileWriter('./train',\n",
    "                                      sess.graph)\n",
    "\n",
    "sess.run(tf.global_variables_initializer())\n",
    "temp = (sess.run(sample_sequence, feed_dict={z_test_placeholder: test_z}))\n",
    "\n",
    "my_seq = temp.squeeze()\n",
    "\n",
    "print(my_seq.shape)\n",
    "plt.imshow(my_seq, cmap='gray_r')\n",
    "plt.show()\n",
    "sess.close()\n",
    "\n"
   ]
  },
  {
   "cell_type": "markdown",
   "metadata": {},
   "source": [
    "### Check whether the discriminator is working"
   ]
  },
  {
   "cell_type": "code",
   "execution_count": 13,
   "metadata": {},
   "outputs": [
    {
     "name": "stdout",
     "output_type": "stream",
     "text": [
      "Tensor(\"discriminator/dense_2/BiasAdd:0\", shape=(?, 2), dtype=float32) Tensor(\"generator/Tanh:0\", shape=(16, 4, 500, 1), dtype=float32) Tensor(\"discriminator_1/dense_2/BiasAdd:0\", shape=(16, 2), dtype=float32)\n"
     ]
    }
   ],
   "source": [
    "batch_size = 16\n",
    "\n",
    "#Since we changed our batch size (from 1 to 16), we need to reset our Tensorflow graph\n",
    "tf.reset_default_graph() \n",
    "sess = tf.Session()\n",
    "\n",
    "#Placeholder for input images to the discriminator\n",
    "x_placeholder = tf.placeholder(\"float\", shape = [None, 4, 500, 1])\n",
    "#Placeholder for input noise vectors to the generator\n",
    "z_placeholder = tf.placeholder(tf.float32, [None, z_dimensions]) \n",
    "\n",
    "\n",
    "#Dx will hold discriminator prediction probabilities for the real enhancer sequences\n",
    "Dx = discriminator(x_placeholder) \n",
    "#Gz holds the generated sequences\n",
    "Gz = generator(z_placeholder, batch_size, z_dimensions) \n",
    "#Dg will hold discriminator prediction probabilities for generated images\n",
    "Dg = discriminator(Gz, reuse=True)\n",
    "\n",
    "print(Dx, Gz, Dg)\n",
    "sess.close()"
   ]
  },
  {
   "cell_type": "markdown",
   "metadata": {},
   "source": [
    "## checking the classifier\n"
   ]
  },
  {
   "cell_type": "code",
   "execution_count": 39,
   "metadata": {},
   "outputs": [
    {
     "name": "stdout",
     "output_type": "stream",
     "text": [
      "Tensor(\"softmax_tensor:0\", shape=(?,), dtype=int64) Tensor(\"generator/Tanh:0\", shape=(16, 4, 500, 1), dtype=float32) Tensor(\"softmax_tensor_1:0\", shape=(16,), dtype=int64)\n"
     ]
    }
   ],
   "source": [
    "batch_size = 16\n",
    "\n",
    "#Since we changed our batch size (from 1 to 16), we need to reset our Tensorflow graph\n",
    "tf.reset_default_graph() \n",
    "sess = tf.Session()\n",
    "\n",
    "#Placeholder for input images to the discriminator\n",
    "x_placeholder = tf.placeholder(\"float\", shape = [None, 4, 500, 1])\n",
    "#Placeholder for input noise vectors to the generator\n",
    "z_placeholder = tf.placeholder(tf.float32, [None, z_dimensions]) \n",
    "\n",
    "\n",
    "#Dx will hold discriminator prediction probabilities for the real enhancer sequences\n",
    "Dx = classifier(x_placeholder) \n",
    "#Gz holds the generated sequences\n",
    "Gz = generator(z_placeholder, batch_size, z_dimensions) \n",
    "#Dg will hold discriminator prediction probabilities for generated images\n",
    "Dg = classifier(Gz, reuse=True)\n",
    "\n",
    "print(Dx, Gz, Dg)\n",
    "sess.close()"
   ]
  },
  {
   "cell_type": "markdown",
   "metadata": {},
   "source": [
    "# Note: below is taken from [the tutorial here](https://github.com/uclaacmai/Generative-Adversarial-Network-Tutorial.git) (and modified)"
   ]
  },
  {
   "cell_type": "markdown",
   "metadata": {},
   "source": [
    "### Assemble components (discriminator, generator, classifier) for triple GAN"
   ]
  },
  {
   "cell_type": "code",
   "execution_count": 26,
   "metadata": {},
   "outputs": [],
   "source": [
    "batch_size = 16\n",
    "\n",
    "#Since we changed our batch size (from 1 to 16), we need to reset our Tensorflow graph\n",
    "tf.reset_default_graph() \n",
    "sess = tf.Session()\n",
    "\n",
    "#Placeholder for input images to the discriminator\n",
    "x_placeholder = tf.placeholder(\"float\", shape = [None, 4, 500, 1])\n",
    "#Placeholder for input noise vectors to the generator\n",
    "z_dimensions = 160\n",
    "z_placeholder = tf.placeholder(tf.float32, [None, z_dimensions]) \n",
    "\n",
    "\n",
    "#Dx will hold discriminator prediction probabilities for the real enhancer sequences\n",
    "Dx = discriminator(x_placeholder) \n",
    "#Gz holds the generated sequences\n",
    "Gz = generator(z_placeholder, batch_size, z_dimensions) \n",
    "#Dg will hold discriminator prediction probabilities for generated images\n",
    "Dg = discriminator(Gz, reuse=True)\n",
    "sess.close()\n"
   ]
  },
  {
   "cell_type": "markdown",
   "metadata": {},
   "source": [
    "### Specify loss"
   ]
  },
  {
   "cell_type": "code",
   "execution_count": null,
   "metadata": {},
   "outputs": [],
   "source": [
    "g_loss = tf.reduce_mean(tf.nn.sigmoid_cross_entropy_with_logits(logits = Dg, labels = tf.ones_like(Dg))) # ensure forward compatibility: function needs to have logits and labels args explicitly used\n",
    "\n",
    "d_loss_real = tf.reduce_mean(tf.nn.sigmoid_cross_entropy_with_logits(logits = Dx, labels = tf.ones_like(Dx)))\n",
    "d_loss_fake = tf.reduce_mean(tf.nn.sigmoid_cross_entropy_with_logits(logits = Dg, labels = tf.zeros_like(Dg)))\n",
    "d_loss = d_loss_real + d_loss_fake\n"
   ]
  },
  {
   "cell_type": "markdown",
   "metadata": {},
   "source": [
    "### Specify optimizers"
   ]
  },
  {
   "cell_type": "code",
   "execution_count": null,
   "metadata": {},
   "outputs": [],
   "source": [
    "tvars = tf.trainable_variables()\n",
    "d_vars = [var for var in tvars if 'discriminator' in var.name]\n",
    "g_vars = [var for var in tvars if 'generator' in var.name]\n",
    "print(\"Discriminator has %d variables to train.\" % len(d_vars))\n",
    "print(\"Generator has %d variables to train. \" % len(g_vars))\n",
    "print(\"Reusing variable scope? %r\" % tf.get_variable_scope().reuse)\n",
    "adam = tf.train.AdamOptimizer()\n",
    "trainerD = adam.minimize(d_loss, var_list=d_vars)\n",
    "trainerG = adam.minimize(g_loss, var_list=g_vars)"
   ]
  },
  {
   "cell_type": "markdown",
   "metadata": {},
   "source": [
    "### Train the stuff"
   ]
  },
  {
   "cell_type": "code",
   "execution_count": null,
   "metadata": {},
   "outputs": [],
   "source": [
    "z_dimensions = 160\n",
    "batch_size = 16\n",
    "iterations = 3000\n",
    "\n",
    "sess = tf.Session()\n",
    "sess.run(tf.global_variables_initializer())\n",
    "with sess.as_default():\n",
    "    data = input_fn(\"Data/Human/positive_samples\")\n",
    "    batched_dataset = data.batch(batch_size)\n",
    "    batched_dataset_iterator = batched_dataset.make_one_shot_iterator()\n",
    "    next_element = batched_dataset_iterator.get_next()\n",
    "\n",
    "    ####### Specify discriminator and generator ######\n",
    "    #Dx will hold discriminator prediction probabilities for the real enhancer sequences\n",
    "    Dx = discriminator(next_element) \n",
    "    #Gz holds the generated sequences\n",
    "    z_batch = np.random.normal(-1, 1, size=[1, z_dimensions])\n",
    "    Gz = generator(z_batch, batch_size, z_dimensions) \n",
    "    #Dg will hold discriminator prediction probabilities for generated images\n",
    "    Dg = discriminator(Gz, reuse=True)\n",
    "    \n",
    "    ###### Specify losses ######\n",
    "    g_loss = tf.reduce_mean(tf.nn.sigmoid_cross_entropy_with_logits(logits = Dg, labels = tf.ones_like(Dg))) # ensure forward compatibility: function needs to have logits and labels args explicitly used\n",
    "    d_loss_real = tf.reduce_mean(tf.nn.sigmoid_cross_entropy_with_logits(logits = Dx, labels = tf.ones_like(Dx)))\n",
    "    d_loss_fake = tf.reduce_mean(tf.nn.sigmoid_cross_entropy_with_logits(logits = Dg, labels = tf.zeros_like(Dg)))\n",
    "    d_loss = d_loss_real + d_loss_fake\n",
    "    \n",
    "    ###### Specify optimizers ######\n",
    "    tvars = tf.trainable_variables()\n",
    "    d_vars = [var for var in tvars if 'discriminator' in var.name]\n",
    "    g_vars = [var for var in tvars if 'generator' in var.name]\n",
    "    print(\"Discriminator has %d variables to train.\" % len(d_vars))\n",
    "    print(\"Generator has %d variables to train. \" % len(g_vars))\n",
    "    print(\"Reusing variable scope? %r\" % tf.get_variable_scope().reuse)\n",
    "    adam = tf.train.AdamOptimizer()\n",
    "    trainerD = adam.minimize(d_loss, var_list=d_vars)\n",
    "    trainerG = adam.minimize(g_loss, var_list=g_vars)\n",
    "\n",
    "    ###### Actually run the training\n",
    "    iterations=3000\n",
    "    for i in range(iterations):\n",
    "        z_batch = np.random.normal(-1, 1, size=[batch_size, z_dimensions])\n",
    "        real_seq_batch = batched_dataset_iterator.get_next()\n",
    "\n",
    "#         real_seq_batch = np.reshape(real_seq_batch[0], [batch_size, 4, 500, 1])\n",
    "        _,dLoss = sess.run([trainerD, d_loss],feed_dict={z_placeholder:z_batch,x_placeholder:real_seq_batch}) #Update the discriminator\n",
    "        _,gLoss = sess.run([trainerG, g_loss],feed_dict={z_placeholder:z_batch}) #Update the generator "
   ]
  },
  {
   "cell_type": "code",
   "execution_count": null,
   "metadata": {},
   "outputs": [],
   "source": []
  }
 ],
 "metadata": {
  "kernelspec": {
   "display_name": "Python 3",
   "language": "python",
   "name": "python3"
  },
  "language_info": {
   "codemirror_mode": {
    "name": "ipython",
    "version": 3
   },
   "file_extension": ".py",
   "mimetype": "text/x-python",
   "name": "python",
   "nbconvert_exporter": "python",
   "pygments_lexer": "ipython3",
   "version": "3.6.4"
  }
 },
 "nbformat": 4,
 "nbformat_minor": 2
}
